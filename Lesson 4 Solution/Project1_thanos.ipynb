{
 "cells": [
  {
   "cell_type": "code",
   "execution_count": 1,
   "metadata": {},
   "outputs": [],
   "source": [
    "import os\n",
    "import random"
   ]
  },
  {
   "cell_type": "code",
   "execution_count": 2,
   "metadata": {},
   "outputs": [
    {
     "name": "stdout",
     "output_type": "stream",
     "text": [
      "D:\\Data Science\\Epsilon AI CDSA\\Lesson 4\n"
     ]
    }
   ],
   "source": [
    "print(os.getcwd())"
   ]
  },
  {
   "cell_type": "code",
   "execution_count": 3,
   "metadata": {},
   "outputs": [
    {
     "data": {
      "text/plain": [
       "[\"0_He_aren't_Captain America.jpg\",\n",
       " \"10_You_aren't_Avengers.jpg\",\n",
       " '11_They_is_Captain America.jpg',\n",
       " '12_She_is_Hawkeye.jpg',\n",
       " \"13_You_aren't_Thor.jpg\",\n",
       " '14_They_are_Black Panther.jpg',\n",
       " '15_You_are_Captain America.jpg',\n",
       " '16_He_am_Captain America.jpg',\n",
       " \"17_She_aren't_Captain America.jpg\",\n",
       " '18_He_am_Hawkeye.jpg',\n",
       " \"19_She_isn't_Ironman.jpg\",\n",
       " \"1_She_aren't_Captain America.jpg\",\n",
       " \"20_They_isn't_Black Panther.jpg\",\n",
       " \"21_I_aren't_Thor.jpg\",\n",
       " '21_They_is_Captain America.jpg',\n",
       " '22_He_is_Black Widow.jpg',\n",
       " \"23_I_isn't_Thanos.jpg\",\n",
       " '24_They_am_Hulk.jpg',\n",
       " '25_I_am_Hawkeye.jpg',\n",
       " '26_You_is_Black Widow.jpg',\n",
       " '27_They_are_Black Widow.jpg',\n",
       " '28_She_am_Hawkeye.jpg',\n",
       " '29_She_is_Avengers.jpg',\n",
       " '2_I_are_Ironman.jpg',\n",
       " '30_He_are_Hulk.jpg',\n",
       " \"31_I_aren't_Thor.jpg\",\n",
       " '32_I_am_Black Widow.jpg',\n",
       " '33_She_am_Hawkeye.jpg',\n",
       " \"34_He_isn't_Thanos.jpg\",\n",
       " \"35_You_isn't_Avengers.jpg\",\n",
       " '36_They_am_Black Panther.jpg',\n",
       " '37_He_am_Thor.jpg',\n",
       " \"38_She_isn't_Hawkeye.jpg\",\n",
       " '39_I_is_Thanos.jpg',\n",
       " '3_You_is_Black Widow.jpg',\n",
       " '40_I_is_Black Widow.jpg',\n",
       " '41_She_are_Hawkeye.jpg',\n",
       " '42_I_are_Avengers.jpg',\n",
       " '43_She_are_Captain America.jpg',\n",
       " \"44_You_aren't_Avengers.jpg\",\n",
       " '45_I_am_Thanos.jpg',\n",
       " '46_I_are_Ironman.jpg',\n",
       " '47_She_am_Avengers.jpg',\n",
       " '48_I_is_Black Panther.jpg',\n",
       " '4_He_are_Ironman.jpg',\n",
       " '5_You_are_Avengers.jpg',\n",
       " '6_They_are_Black Panther.jpg',\n",
       " '7_You_are_Ironman.jpg',\n",
       " \"8_He_aren't_Thor.jpg\",\n",
       " '9_You_are_Avengers.jpg']"
      ]
     },
     "execution_count": 3,
     "metadata": {},
     "output_type": "execute_result"
    }
   ],
   "source": [
    "os.listdir('thanos')"
   ]
  },
  {
   "cell_type": "code",
   "execution_count": 4,
   "metadata": {},
   "outputs": [
    {
     "data": {
      "text/plain": [
       "50"
      ]
     },
     "execution_count": 4,
     "metadata": {},
     "output_type": "execute_result"
    }
   ],
   "source": [
    "len(os.listdir('thanos'))"
   ]
  },
  {
   "cell_type": "code",
   "execution_count": 5,
   "metadata": {},
   "outputs": [],
   "source": [
    "def sent_generator():\n",
    "    str1=['I','You','He','She','They']\n",
    "    str2=['am','are','is','isn\\'t','aren\\'t']\n",
    "    str3=['Thanos','Ironman','Thor','Captain America','Avengers','Hawkeye','Black Widow','Hulk','Black Panther']\n",
    "    \n",
    "    sent= random.choice(str1)+'_'+random.choice(str2)+'_'+random.choice(str3)\n",
    "    return sent"
   ]
  },
  {
   "cell_type": "code",
   "execution_count": 6,
   "metadata": {},
   "outputs": [],
   "source": [
    "def thanos_rename():\n",
    "    \n",
    "    \n",
    "    universe=os.chdir('D:/Data Science/Epsilon AI CDSA/Lesson 4/thanos')\n",
    "    people=os.listdir(universe)\n",
    "    count=0\n",
    "\n",
    "    for i in people:\n",
    "        f_name,f_ext=os.path.splitext(i)\n",
    "        new_name=f'{count}_{sent_generator()}{f_ext}'\n",
    "        \n",
    "        if(new_name not in people):\n",
    "            os.rename(i,new_name)\n",
    "            count+=1\n",
    "        else:\n",
    "            new_name=f'{count}_{sent_generator()}{f_ext}'\n",
    "            os.rename(i,new_name)\n",
    "        "
   ]
  },
  {
   "cell_type": "code",
   "execution_count": 7,
   "metadata": {},
   "outputs": [],
   "source": [
    "thanos_rename()"
   ]
  },
  {
   "cell_type": "code",
   "execution_count": 8,
   "metadata": {},
   "outputs": [
    {
     "data": {
      "text/plain": [
       "['0_He_am_Ironman.jpg',\n",
       " \"10_He_aren't_Hulk.jpg\",\n",
       " '11_They_are_Black Widow.jpg',\n",
       " '12_He_am_Hawkeye.jpg',\n",
       " \"13_She_aren't_Captain America.jpg\",\n",
       " '14_He_is_Ironman.jpg',\n",
       " \"15_I_aren't_Black Panther.jpg\",\n",
       " \"16_They_isn't_Avengers.jpg\",\n",
       " '17_He_is_Ironman.jpg',\n",
       " \"18_You_aren't_Thanos.jpg\",\n",
       " '19_They_is_Captain America.jpg',\n",
       " '1_She_are_Thanos.jpg',\n",
       " '20_She_is_Black Widow.jpg',\n",
       " '21_They_are_Thor.jpg',\n",
       " '22_You_are_Hawkeye.jpg',\n",
       " '23_They_am_Black Widow.jpg',\n",
       " \"24_He_isn't_Captain America.jpg\",\n",
       " '25_I_am_Thanos.jpg',\n",
       " '26_You_are_Hawkeye.jpg',\n",
       " '27_You_is_Black Widow.jpg',\n",
       " \"28_He_isn't_Thor.jpg\",\n",
       " \"29_They_aren't_Thanos.jpg\",\n",
       " \"2_He_isn't_Hawkeye.jpg\",\n",
       " '30_I_is_Ironman.jpg',\n",
       " '31_He_is_Thanos.jpg',\n",
       " '32_She_is_Captain America.jpg',\n",
       " '33_She_are_Avengers.jpg',\n",
       " \"34_They_aren't_Black Panther.jpg\",\n",
       " \"35_You_isn't_Hulk.jpg\",\n",
       " \"36_He_aren't_Avengers.jpg\",\n",
       " '37_She_am_Thor.jpg',\n",
       " '38_He_are_Thanos.jpg',\n",
       " \"39_I_isn't_Thanos.jpg\",\n",
       " \"3_They_isn't_Avengers.jpg\",\n",
       " '40_You_are_Black Widow.jpg',\n",
       " '41_He_am_Hawkeye.jpg',\n",
       " '42_They_am_Black Panther.jpg',\n",
       " '43_He_am_Hulk.jpg',\n",
       " '44_You_are_Black Panther.jpg',\n",
       " \"45_He_aren't_Black Panther.jpg\",\n",
       " \"46_You_aren't_Hawkeye.jpg\",\n",
       " \"47_She_isn't_Avengers.jpg\",\n",
       " '48_He_is_Black Widow.jpg',\n",
       " '49_She_is_Hulk.jpg',\n",
       " \"4_He_isn't_Thor.jpg\",\n",
       " \"5_She_isn't_Black Widow.jpg\",\n",
       " \"6_He_isn't_Hulk.jpg\",\n",
       " \"7_He_isn't_Black Panther.jpg\",\n",
       " \"8_She_isn't_Avengers.jpg\",\n",
       " '9_I_are_Hawkeye.jpg']"
      ]
     },
     "execution_count": 8,
     "metadata": {},
     "output_type": "execute_result"
    }
   ],
   "source": [
    "os.listdir()"
   ]
  },
  {
   "cell_type": "code",
   "execution_count": 9,
   "metadata": {},
   "outputs": [
    {
     "data": {
      "text/plain": [
       "50"
      ]
     },
     "execution_count": 9,
     "metadata": {},
     "output_type": "execute_result"
    }
   ],
   "source": [
    "len(os.listdir())"
   ]
  }
 ],
 "metadata": {
  "kernelspec": {
   "display_name": "Python 3",
   "language": "python",
   "name": "python3"
  },
  "language_info": {
   "codemirror_mode": {
    "name": "ipython",
    "version": 3
   },
   "file_extension": ".py",
   "mimetype": "text/x-python",
   "name": "python",
   "nbconvert_exporter": "python",
   "pygments_lexer": "ipython3",
   "version": "3.7.6"
  }
 },
 "nbformat": 4,
 "nbformat_minor": 4
}
