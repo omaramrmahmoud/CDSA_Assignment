{
 "cells": [
  {
   "cell_type": "markdown",
   "metadata": {},
   "source": [
    "# Problem 1\n",
    "### Python Program to Check if a Number is Positive, Negative or 0"
   ]
  },
  {
   "cell_type": "code",
   "execution_count": 1,
   "metadata": {},
   "outputs": [],
   "source": [
    "def num_check(x):\n",
    "    if(x>0):\n",
    "        print(f\"{x} is a positive number\")\n",
    "    elif(x<0):\n",
    "        print(f\"{x} is a negative number\")\n",
    "    else:\n",
    "        print(f\"{x} is zero\")"
   ]
  },
  {
   "cell_type": "code",
   "execution_count": 2,
   "metadata": {},
   "outputs": [
    {
     "name": "stdout",
     "output_type": "stream",
     "text": [
      "Please enter a number:22\n",
      "Please enter a number:0\n",
      "Please enter a number:-100\n"
     ]
    }
   ],
   "source": [
    "a=float(input('Please enter a number:'))\n",
    "b=float(input('Please enter a number:'))\n",
    "c=float(input('Please enter a number:'))"
   ]
  },
  {
   "cell_type": "code",
   "execution_count": 3,
   "metadata": {},
   "outputs": [
    {
     "name": "stdout",
     "output_type": "stream",
     "text": [
      "22.0 is a positive number\n",
      "0.0 is zero\n",
      "-100.0 is a negative number\n"
     ]
    }
   ],
   "source": [
    "num_check(a)\n",
    "num_check(b)\n",
    "num_check(c)"
   ]
  },
  {
   "cell_type": "markdown",
   "metadata": {},
   "source": [
    "   "
   ]
  },
  {
   "cell_type": "markdown",
   "metadata": {},
   "source": [
    "# Problem 2\n",
    "### Python Program to Print all Prime Numbers in an Interval"
   ]
  },
  {
   "cell_type": "code",
   "execution_count": 4,
   "metadata": {},
   "outputs": [],
   "source": [
    "def isPrime(lower,upper):\n",
    "    prime_list=[]\n",
    "    \n",
    "    for n in range(lower,upper+1):\n",
    "        if n>1:\n",
    "            for i in range(2,n):\n",
    "                flag=False\n",
    "                if (n%i==0):\n",
    "                    break\n",
    "                else:\n",
    "                    flag=True\n",
    "                \n",
    "        if(flag==True):\n",
    "            prime_list.append(n)\n",
    "                    \n",
    "    print(f'The following numbers in the interval between {lower} and {upper} are Prime: ')\n",
    "    for x in prime_list:\n",
    "        print(x)"
   ]
  },
  {
   "cell_type": "code",
   "execution_count": 5,
   "metadata": {},
   "outputs": [
    {
     "name": "stdout",
     "output_type": "stream",
     "text": [
      "Please enter a number:900\n",
      "Please enter a number:1000\n",
      "The following numbers in the interval between 900 and 1000 are Prime: \n",
      "907\n",
      "911\n",
      "919\n",
      "929\n",
      "937\n",
      "941\n",
      "947\n",
      "953\n",
      "967\n",
      "971\n",
      "977\n",
      "983\n",
      "991\n",
      "997\n"
     ]
    }
   ],
   "source": [
    "a = int(input('Please enter a number:'))\n",
    "b = int(input('Please enter a number:'))\n",
    "isPrime(a,b)"
   ]
  },
  {
   "cell_type": "markdown",
   "metadata": {},
   "source": [
    "    "
   ]
  },
  {
   "cell_type": "markdown",
   "metadata": {},
   "source": [
    "# Problem 3\n",
    "### Python Program to Display the multiplication Table"
   ]
  },
  {
   "cell_type": "code",
   "execution_count": 6,
   "metadata": {},
   "outputs": [],
   "source": [
    "def multi_table(a):\n",
    "    print(f\"The multiplication table for {a} is: \")\n",
    "    \n",
    "    for i in range(1,13):\n",
    "        print(f\"{a} x {i} = {a*i} \\n\")"
   ]
  },
  {
   "cell_type": "code",
   "execution_count": 7,
   "metadata": {},
   "outputs": [
    {
     "name": "stdout",
     "output_type": "stream",
     "text": [
      "Please enter a number:5\n",
      "The multiplication table for 5 is: \n",
      "5 x 1 = 5 \n",
      "\n",
      "5 x 2 = 10 \n",
      "\n",
      "5 x 3 = 15 \n",
      "\n",
      "5 x 4 = 20 \n",
      "\n",
      "5 x 5 = 25 \n",
      "\n",
      "5 x 6 = 30 \n",
      "\n",
      "5 x 7 = 35 \n",
      "\n",
      "5 x 8 = 40 \n",
      "\n",
      "5 x 9 = 45 \n",
      "\n",
      "5 x 10 = 50 \n",
      "\n",
      "5 x 11 = 55 \n",
      "\n",
      "5 x 12 = 60 \n",
      "\n"
     ]
    }
   ],
   "source": [
    "a=int(input('Please enter a number:'))\n",
    "multi_table(a)"
   ]
  },
  {
   "cell_type": "markdown",
   "metadata": {},
   "source": [
    "  "
   ]
  },
  {
   "cell_type": "markdown",
   "metadata": {},
   "source": [
    "# Problem 4\n",
    "### Python Program to Remove Punctuations From a String"
   ]
  },
  {
   "cell_type": "code",
   "execution_count": 8,
   "metadata": {},
   "outputs": [],
   "source": [
    "def remove_Punc(sent):\n",
    "    \n",
    "    punctuation='.,:;-(){}[]\"*!\\'?'\n",
    "    clean_sent=\"\"\n",
    "    for char in sent:\n",
    "        if char not in punctuation:\n",
    "            clean_sent=clean_sent+char\n",
    "    \n",
    "    print(clean_sent)\n",
    "        "
   ]
  },
  {
   "cell_type": "code",
   "execution_count": 9,
   "metadata": {},
   "outputs": [
    {
     "name": "stdout",
     "output_type": "stream",
     "text": [
      "Hello World, My name's Omar Amr. I am from Cairo - Egypt: which is a country in Africe. The largest Continent!\n"
     ]
    }
   ],
   "source": [
    "a='Hello World, My name\\'s Omar Amr. I am from Cairo - Egypt: which is a country in Africe. The largest Continent!'\n",
    "print(a)"
   ]
  },
  {
   "cell_type": "code",
   "execution_count": 10,
   "metadata": {},
   "outputs": [
    {
     "name": "stdout",
     "output_type": "stream",
     "text": [
      "Hello World My names Omar Amr I am from Cairo  Egypt which is a country in Africe The largest Continent\n"
     ]
    }
   ],
   "source": [
    "remove_Punc(a)"
   ]
  },
  {
   "cell_type": "markdown",
   "metadata": {},
   "source": [
    "  "
   ]
  },
  {
   "cell_type": "markdown",
   "metadata": {},
   "source": [
    "# Problem 5\n",
    "### Python Program to Make a Simple Calculator"
   ]
  },
  {
   "cell_type": "code",
   "execution_count": 11,
   "metadata": {},
   "outputs": [],
   "source": [
    "def simple_calc(a=1,b=5,op='+'):\n",
    "    if (op=='+'):\n",
    "        print(f\"{a} {op} {b} = {a+b}\")\n",
    "    elif(op=='-'):\n",
    "        print(f\"{a} {op} {b} = {a-b}\")\n",
    "    elif(op=='*'):\n",
    "        print(f\"{a} {op} {b} = {a*b}\")\n",
    "    elif(op=='**'):\n",
    "        print(f\"{a} {op} {b} = {a**b}\")\n",
    "    elif(op=='/'):\n",
    "        if(a==0)or(b==0):\n",
    "            raise Exception('Numbers not divisible by zero')\n",
    "        print(f\"{a} {op} {b} = {a/b}\")\n",
    "    elif(op=='%'):\n",
    "        print(f\"{a} {op} {b} = {a%b}\")\n",
    "    elif(op=='//'):\n",
    "        print(f\"{a} {op} {b} = {a//b}\")\n",
    "        "
   ]
  },
  {
   "cell_type": "code",
   "execution_count": 12,
   "metadata": {},
   "outputs": [
    {
     "name": "stdout",
     "output_type": "stream",
     "text": [
      "Please enter first number: 20\n",
      "Please enter second number: 0\n",
      "Please enter symbol of operation to be performed: /\n"
     ]
    },
    {
     "ename": "Exception",
     "evalue": "Numbers not divisible by zero",
     "output_type": "error",
     "traceback": [
      "\u001b[1;31m---------------------------------------------------------------------------\u001b[0m",
      "\u001b[1;31mException\u001b[0m                                 Traceback (most recent call last)",
      "\u001b[1;32m<ipython-input-12-3bd77e240939>\u001b[0m in \u001b[0;36m<module>\u001b[1;34m\u001b[0m\n\u001b[0;32m      3\u001b[0m \u001b[0msym\u001b[0m\u001b[1;33m=\u001b[0m\u001b[0minput\u001b[0m\u001b[1;33m(\u001b[0m\u001b[1;34m'Please enter symbol of operation to be performed: '\u001b[0m\u001b[1;33m)\u001b[0m\u001b[1;33m\u001b[0m\u001b[1;33m\u001b[0m\u001b[0m\n\u001b[0;32m      4\u001b[0m \u001b[1;33m\u001b[0m\u001b[0m\n\u001b[1;32m----> 5\u001b[1;33m \u001b[0msimple_calc\u001b[0m\u001b[1;33m(\u001b[0m\u001b[0ma\u001b[0m\u001b[1;33m,\u001b[0m\u001b[0mb\u001b[0m\u001b[1;33m,\u001b[0m\u001b[0msym\u001b[0m\u001b[1;33m)\u001b[0m\u001b[1;33m\u001b[0m\u001b[1;33m\u001b[0m\u001b[0m\n\u001b[0m",
      "\u001b[1;32m<ipython-input-11-7c2583fa7abf>\u001b[0m in \u001b[0;36msimple_calc\u001b[1;34m(a, b, op)\u001b[0m\n\u001b[0;32m     10\u001b[0m     \u001b[1;32melif\u001b[0m\u001b[1;33m(\u001b[0m\u001b[0mop\u001b[0m\u001b[1;33m==\u001b[0m\u001b[1;34m'/'\u001b[0m\u001b[1;33m)\u001b[0m\u001b[1;33m:\u001b[0m\u001b[1;33m\u001b[0m\u001b[1;33m\u001b[0m\u001b[0m\n\u001b[0;32m     11\u001b[0m         \u001b[1;32mif\u001b[0m\u001b[1;33m(\u001b[0m\u001b[0ma\u001b[0m\u001b[1;33m==\u001b[0m\u001b[1;36m0\u001b[0m\u001b[1;33m)\u001b[0m\u001b[1;32mor\u001b[0m\u001b[1;33m(\u001b[0m\u001b[0mb\u001b[0m\u001b[1;33m==\u001b[0m\u001b[1;36m0\u001b[0m\u001b[1;33m)\u001b[0m\u001b[1;33m:\u001b[0m\u001b[1;33m\u001b[0m\u001b[1;33m\u001b[0m\u001b[0m\n\u001b[1;32m---> 12\u001b[1;33m             \u001b[1;32mraise\u001b[0m \u001b[0mException\u001b[0m\u001b[1;33m(\u001b[0m\u001b[1;34m'Numbers not divisible by zero'\u001b[0m\u001b[1;33m)\u001b[0m\u001b[1;33m\u001b[0m\u001b[1;33m\u001b[0m\u001b[0m\n\u001b[0m\u001b[0;32m     13\u001b[0m         \u001b[0mprint\u001b[0m\u001b[1;33m(\u001b[0m\u001b[1;34mf\"{a} {op} {b} = {a/b}\"\u001b[0m\u001b[1;33m)\u001b[0m\u001b[1;33m\u001b[0m\u001b[1;33m\u001b[0m\u001b[0m\n\u001b[0;32m     14\u001b[0m     \u001b[1;32melif\u001b[0m\u001b[1;33m(\u001b[0m\u001b[0mop\u001b[0m\u001b[1;33m==\u001b[0m\u001b[1;34m'%'\u001b[0m\u001b[1;33m)\u001b[0m\u001b[1;33m:\u001b[0m\u001b[1;33m\u001b[0m\u001b[1;33m\u001b[0m\u001b[0m\n",
      "\u001b[1;31mException\u001b[0m: Numbers not divisible by zero"
     ]
    }
   ],
   "source": [
    "a=float(input('Please enter first number: '))\n",
    "b=float(input('Please enter second number: '))\n",
    "sym=input('Please enter symbol of operation to be performed: ')\n",
    "\n",
    "simple_calc(a,b,sym)"
   ]
  },
  {
   "cell_type": "code",
   "execution_count": 13,
   "metadata": {},
   "outputs": [
    {
     "name": "stdout",
     "output_type": "stream",
     "text": [
      "Please enter first number: 50\n",
      "Please enter second number: 30\n",
      "Please enter symbol of operation to be performed: -\n",
      "50.0 - 30.0 = 20.0\n"
     ]
    }
   ],
   "source": [
    "a=float(input('Please enter first number: '))\n",
    "b=float(input('Please enter second number: '))\n",
    "sym=input('Please enter symbol of operation to be performed: ')\n",
    "\n",
    "simple_calc(a,b,sym)"
   ]
  },
  {
   "cell_type": "markdown",
   "metadata": {},
   "source": [
    "   "
   ]
  },
  {
   "cell_type": "markdown",
   "metadata": {},
   "source": [
    "# Problem 6\n",
    "### Python Program to Count the Number of Each Vowel"
   ]
  },
  {
   "cell_type": "code",
   "execution_count": 14,
   "metadata": {},
   "outputs": [],
   "source": [
    "def vowel_count(sent):\n",
    "    vowels='aeiou'\n",
    "    count_dict = {}.fromkeys(vowels,0)\n",
    "    for char in sent.lower():\n",
    "           if char in count_dict:\n",
    "                   count_dict[char] += 1\n",
    "                    \n",
    "    print(count_dict)\n",
    "        "
   ]
  },
  {
   "cell_type": "code",
   "execution_count": 15,
   "metadata": {},
   "outputs": [
    {
     "name": "stdout",
     "output_type": "stream",
     "text": [
      "Please enter a sentence: 'Hello, have you tried our tutorial section yet?'\n",
      "{'a': 2, 'e': 5, 'i': 3, 'o': 5, 'u': 3}\n"
     ]
    }
   ],
   "source": [
    "a=input('Please enter a sentence: ')\n",
    "vowel_count(a)"
   ]
  }
 ],
 "metadata": {
  "kernelspec": {
   "display_name": "Python 3",
   "language": "python",
   "name": "python3"
  },
  "language_info": {
   "codemirror_mode": {
    "name": "ipython",
    "version": 3
   },
   "file_extension": ".py",
   "mimetype": "text/x-python",
   "name": "python",
   "nbconvert_exporter": "python",
   "pygments_lexer": "ipython3",
   "version": "3.7.6"
  }
 },
 "nbformat": 4,
 "nbformat_minor": 4
}
