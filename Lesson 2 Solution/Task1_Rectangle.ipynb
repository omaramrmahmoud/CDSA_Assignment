{
 "cells": [
  {
   "cell_type": "code",
   "execution_count": 2,
   "metadata": {},
   "outputs": [
    {
     "name": "stdout",
     "output_type": "stream",
     "text": [
      "Please Enter a Length for the Rectangle: 5\n",
      "Please Enter a Width for the Rectangle: 2\n",
      "The Circumference of the Rectangle is:  14.0\n"
     ]
    }
   ],
   "source": [
    "l=float(input('Please Enter a Length for the Rectangle: '))\n",
    "w=float(input('Please Enter a Width for the Rectangle: '))\n",
    "p=2*(l+w)\n",
    "print('The Circumference of the Rectangle is: ',p)"
   ]
  }
 ],
 "metadata": {
  "kernelspec": {
   "display_name": "Python 3",
   "language": "python",
   "name": "python3"
  },
  "language_info": {
   "codemirror_mode": {
    "name": "ipython",
    "version": 3
   },
   "file_extension": ".py",
   "mimetype": "text/x-python",
   "name": "python",
   "nbconvert_exporter": "python",
   "pygments_lexer": "ipython3",
   "version": "3.7.6"
  }
 },
 "nbformat": 4,
 "nbformat_minor": 4
}
