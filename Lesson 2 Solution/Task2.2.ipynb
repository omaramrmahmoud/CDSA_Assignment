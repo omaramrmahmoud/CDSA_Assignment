{
 "cells": [
  {
   "cell_type": "code",
   "execution_count": 1,
   "metadata": {},
   "outputs": [
    {
     "name": "stdout",
     "output_type": "stream",
     "text": [
      "['hello world \\n', 'hello world \\n', 'hello world \\n', 'hello world \\n', 'hello world \\n']\n"
     ]
    }
   ],
   "source": [
    "# Task 2.2.1\n",
    "my_file= open('test.txt','w+') # use w instead of a so hello world can only be 5 times if rerun.\n",
    "my_file.write('hello world \\n'*5)\n",
    "my_file.close()\n",
    "\n",
    "my_file= open('test.txt','r')\n",
    "print(my_file.readlines())\n",
    "my_file.close()"
   ]
  },
  {
   "cell_type": "code",
   "execution_count": 2,
   "metadata": {},
   "outputs": [
    {
     "name": "stdout",
     "output_type": "stream",
     "text": [
      "[]\n",
      "['HELLO WORLD \\n', 'HELLO WORLD \\n', 'HELLO WORLD \\n', 'HELLO WORLD \\n', 'HELLO WORLD \\n']\n"
     ]
    }
   ],
   "source": [
    "# Task 2.2.2\n",
    "my_file= open('test.txt','r')\n",
    "content = my_file.read()\n",
    "print(my_file.readlines())\n",
    "my_file.close()\n",
    "\n",
    "\n",
    "file=open('test.txt','w+')\n",
    "file.seek(0)\n",
    "file.write(content.upper())\n",
    "file.close()\n",
    "\n",
    "my_file= open('test.txt','r')\n",
    "print(my_file.readlines())\n",
    "my_file.close()"
   ]
  },
  {
   "cell_type": "code",
   "execution_count": 3,
   "metadata": {},
   "outputs": [
    {
     "name": "stdout",
     "output_type": "stream",
     "text": [
      "['HELLO WORLD \\n', 'HELLO WORLD \\n', 'Hello world \\n', 'HELLO WORLD \\n', 'HELLO WORLD \\n']\n"
     ]
    }
   ],
   "source": [
    "# Task 2.2.3\n",
    "my_file= open('test.txt','r')\n",
    "x=my_file.readlines()\n",
    "x[2]=x[2].capitalize()\n",
    "my_file.close()\n",
    "\n",
    "file=open('test.txt','w+')\n",
    "file.seek(0)\n",
    "for line in x:\n",
    "    file.write(line)\n",
    "file.close()\n",
    "\n",
    "my_file= open('test.txt','r')\n",
    "print(my_file.readlines())\n",
    "my_file.close()"
   ]
  },
  {
   "cell_type": "code",
   "execution_count": 4,
   "metadata": {},
   "outputs": [
    {
     "name": "stdout",
     "output_type": "stream",
     "text": [
      "['HELLO WORLD \\n', 'HELLO WORLD \\n', 'Hello world \\n', 'HELLO WORLD \\n', 'HELLO WORLD \\n']\n",
      "\n",
      " ------------------- \n",
      "\n",
      "['HELLO WORLD \\n', 'HELLO WORLD \\n', 'Hello world \\n', 'HELLO WORLD \\n', 'HELLO WORLD \\n', 'I Love python \\n']\n"
     ]
    }
   ],
   "source": [
    "# Task 2.2.4\n",
    "\n",
    "# file=open('test.txt','a+')\n",
    "# file.write('I Love python \\n')\n",
    "# file.close()\n",
    "\n",
    "# my_file= open('test.txt','r')\n",
    "# print(my_file.readlines())\n",
    "# my_file.close()\n",
    "\n",
    "with open('test.txt','a+') as file:\n",
    "    file.seek(0)\n",
    "    print(file.readlines())\n",
    "    file.write('I Love python \\n')\n",
    "    file.seek(0)\n",
    "    print('\\n ------------------- \\n')\n",
    "    print(file.readlines())\n",
    "    "
   ]
  }
 ],
 "metadata": {
  "kernelspec": {
   "display_name": "Python 3",
   "language": "python",
   "name": "python3"
  },
  "language_info": {
   "codemirror_mode": {
    "name": "ipython",
    "version": 3
   },
   "file_extension": ".py",
   "mimetype": "text/x-python",
   "name": "python",
   "nbconvert_exporter": "python",
   "pygments_lexer": "ipython3",
   "version": "3.7.6"
  }
 },
 "nbformat": 4,
 "nbformat_minor": 4
}
